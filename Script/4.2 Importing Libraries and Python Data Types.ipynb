{
 "cells": [
  {
   "cell_type": "markdown",
   "id": "98d5b1ec",
   "metadata": {},
   "source": [
    "# 01. Importing Libraries"
   ]
  },
  {
   "cell_type": "code",
   "execution_count": 2,
   "id": "0cb25ddb",
   "metadata": {},
   "outputs": [],
   "source": [
    "# Import Libraries\n",
    "import pandas as pd\n",
    "import numpy as np\n",
    "import os"
   ]
  },
  {
   "cell_type": "code",
   "execution_count": 12,
   "id": "784ead41",
   "metadata": {},
   "outputs": [],
   "source": [
    "x = 2"
   ]
  },
  {
   "cell_type": "markdown",
   "id": "8ba304c7",
   "metadata": {},
   "source": [
    "# 02. Data Types"
   ]
  },
  {
   "cell_type": "code",
   "execution_count": 13,
   "id": "e1acf055",
   "metadata": {},
   "outputs": [
    {
     "data": {
      "text/plain": [
       "2"
      ]
     },
     "execution_count": 13,
     "metadata": {},
     "output_type": "execute_result"
    }
   ],
   "source": [
    "x"
   ]
  },
  {
   "cell_type": "code",
   "execution_count": 14,
   "id": "3173edb4",
   "metadata": {},
   "outputs": [
    {
     "name": "stdout",
     "output_type": "stream",
     "text": [
      "2\n"
     ]
    }
   ],
   "source": [
    "print(x)"
   ]
  },
  {
   "cell_type": "code",
   "execution_count": 15,
   "id": "d5bcf7a4",
   "metadata": {},
   "outputs": [
    {
     "data": {
      "text/plain": [
       "int"
      ]
     },
     "execution_count": 15,
     "metadata": {},
     "output_type": "execute_result"
    }
   ],
   "source": [
    "type(x)"
   ]
  },
  {
   "cell_type": "code",
   "execution_count": 16,
   "id": "db7f3b11",
   "metadata": {},
   "outputs": [],
   "source": [
    "y = 5.678"
   ]
  },
  {
   "cell_type": "code",
   "execution_count": 17,
   "id": "c04d2c6b",
   "metadata": {},
   "outputs": [
    {
     "data": {
      "text/plain": [
       "float"
      ]
     },
     "execution_count": 17,
     "metadata": {},
     "output_type": "execute_result"
    }
   ],
   "source": [
    "type(y)"
   ]
  },
  {
   "cell_type": "code",
   "execution_count": 18,
   "id": "272b1750",
   "metadata": {},
   "outputs": [],
   "source": [
    "z = 'Brazil'"
   ]
  },
  {
   "cell_type": "code",
   "execution_count": 19,
   "id": "d9faebd2",
   "metadata": {},
   "outputs": [
    {
     "data": {
      "text/plain": [
       "str"
      ]
     },
     "execution_count": 19,
     "metadata": {},
     "output_type": "execute_result"
    }
   ],
   "source": [
    "type(z)"
   ]
  },
  {
   "cell_type": "code",
   "execution_count": 20,
   "id": "e1feaffd",
   "metadata": {},
   "outputs": [
    {
     "data": {
      "text/plain": [
       "bool"
      ]
     },
     "execution_count": 20,
     "metadata": {},
     "output_type": "execute_result"
    }
   ],
   "source": [
    "type(True)"
   ]
  },
  {
   "cell_type": "code",
   "execution_count": 21,
   "id": "57373623",
   "metadata": {},
   "outputs": [
    {
     "data": {
      "text/plain": [
       "bool"
      ]
     },
     "execution_count": 21,
     "metadata": {},
     "output_type": "execute_result"
    }
   ],
   "source": [
    "type(False)"
   ]
  },
  {
   "cell_type": "code",
   "execution_count": 22,
   "id": "b6b6c43c",
   "metadata": {},
   "outputs": [
    {
     "name": "stdout",
     "output_type": "stream",
     "text": [
      "2\n"
     ]
    }
   ],
   "source": [
    "print(x)"
   ]
  },
  {
   "cell_type": "code",
   "execution_count": 23,
   "id": "c45748a3",
   "metadata": {},
   "outputs": [
    {
     "data": {
      "text/plain": [
       "6"
      ]
     },
     "execution_count": 23,
     "metadata": {},
     "output_type": "execute_result"
    }
   ],
   "source": [
    "x + 4"
   ]
  },
  {
   "cell_type": "code",
   "execution_count": 24,
   "id": "e96ae709",
   "metadata": {},
   "outputs": [
    {
     "data": {
      "text/plain": [
       "7.678"
      ]
     },
     "execution_count": 24,
     "metadata": {},
     "output_type": "execute_result"
    }
   ],
   "source": [
    "x + y"
   ]
  },
  {
   "cell_type": "code",
   "execution_count": 25,
   "id": "8085c1a4",
   "metadata": {},
   "outputs": [],
   "source": [
    "x = x + 4"
   ]
  },
  {
   "cell_type": "code",
   "execution_count": 26,
   "id": "1d74fefb",
   "metadata": {},
   "outputs": [
    {
     "name": "stdout",
     "output_type": "stream",
     "text": [
      "6\n"
     ]
    }
   ],
   "source": [
    "print(x)"
   ]
  },
  {
   "cell_type": "code",
   "execution_count": 27,
   "id": "fe99ae07",
   "metadata": {},
   "outputs": [],
   "source": [
    "a = 'Hello,'"
   ]
  },
  {
   "cell_type": "code",
   "execution_count": 28,
   "id": "5dd2bf5a",
   "metadata": {},
   "outputs": [],
   "source": [
    "b = 'Marley'"
   ]
  },
  {
   "cell_type": "code",
   "execution_count": 29,
   "id": "3f4f5bcd",
   "metadata": {},
   "outputs": [
    {
     "data": {
      "text/plain": [
       "'Hello,Marley'"
      ]
     },
     "execution_count": 29,
     "metadata": {},
     "output_type": "execute_result"
    }
   ],
   "source": [
    "a + b"
   ]
  },
  {
   "cell_type": "code",
   "execution_count": 30,
   "id": "da7373ce",
   "metadata": {},
   "outputs": [],
   "source": [
    "n = 'Potato'"
   ]
  },
  {
   "cell_type": "code",
   "execution_count": 31,
   "id": "f048f482",
   "metadata": {},
   "outputs": [
    {
     "data": {
      "text/plain": [
       "'PotatoPotatoPotatoPotatoPotatoPotatoPotatoPotatoPotatoPotatoPotatoPotato'"
      ]
     },
     "execution_count": 31,
     "metadata": {},
     "output_type": "execute_result"
    }
   ],
   "source": [
    "n * 12"
   ]
  },
  {
   "cell_type": "code",
   "execution_count": 32,
   "id": "8896cc9f",
   "metadata": {},
   "outputs": [
    {
     "data": {
      "text/plain": [
       "False"
      ]
     },
     "execution_count": 32,
     "metadata": {},
     "output_type": "execute_result"
    }
   ],
   "source": [
    "x == y"
   ]
  },
  {
   "cell_type": "code",
   "execution_count": 33,
   "id": "8fde5a15",
   "metadata": {},
   "outputs": [
    {
     "data": {
      "text/plain": [
       "bool"
      ]
     },
     "execution_count": 33,
     "metadata": {},
     "output_type": "execute_result"
    }
   ],
   "source": [
    "type (x == y)"
   ]
  },
  {
   "cell_type": "markdown",
   "id": "a26d392e",
   "metadata": {},
   "source": [
    "# Task 4.2"
   ]
  },
  {
   "cell_type": "code",
   "execution_count": 6,
   "id": "2a62fd64",
   "metadata": {},
   "outputs": [],
   "source": [
    "#step 7\n",
    "c = 63\n",
    "d = 37"
   ]
  },
  {
   "cell_type": "code",
   "execution_count": 7,
   "id": "4ac17e26",
   "metadata": {},
   "outputs": [
    {
     "data": {
      "text/plain": [
       "100"
      ]
     },
     "execution_count": 7,
     "metadata": {},
     "output_type": "execute_result"
    }
   ],
   "source": [
    "c + d"
   ]
  },
  {
   "cell_type": "code",
   "execution_count": 8,
   "id": "8d2bd36f",
   "metadata": {},
   "outputs": [],
   "source": [
    "c = c + 37"
   ]
  },
  {
   "cell_type": "code",
   "execution_count": 9,
   "id": "67b6a8ad",
   "metadata": {},
   "outputs": [
    {
     "name": "stdout",
     "output_type": "stream",
     "text": [
      "100\n"
     ]
    }
   ],
   "source": [
    "print(c)"
   ]
  },
  {
   "cell_type": "code",
   "execution_count": 10,
   "id": "5388974b",
   "metadata": {},
   "outputs": [],
   "source": [
    "e =137"
   ]
  },
  {
   "cell_type": "code",
   "execution_count": 11,
   "id": "7784b2a3",
   "metadata": {},
   "outputs": [
    {
     "data": {
      "text/plain": [
       "100"
      ]
     },
     "execution_count": 11,
     "metadata": {},
     "output_type": "execute_result"
    }
   ],
   "source": [
    "e - d"
   ]
  },
  {
   "cell_type": "code",
   "execution_count": 34,
   "id": "ad5df8e9",
   "metadata": {},
   "outputs": [],
   "source": [
    "# step 8\n",
    "f = 95.66\n",
    "g = 5.36"
   ]
  },
  {
   "cell_type": "code",
   "execution_count": 35,
   "id": "3401be1f",
   "metadata": {},
   "outputs": [
    {
     "data": {
      "text/plain": [
       "17.847014925373134"
      ]
     },
     "execution_count": 35,
     "metadata": {},
     "output_type": "execute_result"
    }
   ],
   "source": [
    "f / g"
   ]
  },
  {
   "cell_type": "code",
   "execution_count": 47,
   "id": "155bfaae",
   "metadata": {},
   "outputs": [],
   "source": [
    "# step 9\n",
    "h = 'bumble'\n",
    "i = 'bee'"
   ]
  },
  {
   "cell_type": "code",
   "execution_count": 48,
   "id": "1d84ba26",
   "metadata": {},
   "outputs": [
    {
     "data": {
      "text/plain": [
       "'bumblebee'"
      ]
     },
     "execution_count": 48,
     "metadata": {},
     "output_type": "execute_result"
    }
   ],
   "source": [
    "h + i"
   ]
  },
  {
   "cell_type": "code",
   "execution_count": 51,
   "id": "30827c2e",
   "metadata": {},
   "outputs": [],
   "source": [
    "# stp 10\n",
    "j = 'I love '\n",
    "k = 'reading'"
   ]
  },
  {
   "cell_type": "code",
   "execution_count": 52,
   "id": "6bc07a09",
   "metadata": {},
   "outputs": [
    {
     "data": {
      "text/plain": [
       "'I love reading'"
      ]
     },
     "execution_count": 52,
     "metadata": {},
     "output_type": "execute_result"
    }
   ],
   "source": [
    "j + k"
   ]
  },
  {
   "cell_type": "code",
   "execution_count": 53,
   "id": "532750fb",
   "metadata": {},
   "outputs": [],
   "source": [
    "l = 'My sister '\n",
    "m = 'likes to paint.'"
   ]
  },
  {
   "cell_type": "code",
   "execution_count": 54,
   "id": "19e30d76",
   "metadata": {},
   "outputs": [
    {
     "data": {
      "text/plain": [
       "'My sister likes to paint.'"
      ]
     },
     "execution_count": 54,
     "metadata": {},
     "output_type": "execute_result"
    }
   ],
   "source": [
    "l + m"
   ]
  },
  {
   "cell_type": "code",
   "execution_count": 55,
   "id": "c176da37",
   "metadata": {},
   "outputs": [
    {
     "data": {
      "text/plain": [
       "'I love readingI love readingI love readingI love readingI love readingI love readingI love readingI love readingI love readingI love readingI love readingI love readingI love readingI love readingI love readingI love readingI love readingI love readingI love readingI love readingI love readingI love readingI love readingI love readingI love readingI love readingI love readingI love readingI love readingI love readingI love readingI love readingI love readingI love readingI love readingI love readingI love readingI love readingI love readingI love readingI love readingI love readingI love readingI love readingI love readingI love readingI love readingI love readingI love readingI love readingI love readingI love readingI love readingI love readingI love readingI love readingI love readingI love readingI love readingI love readingI love readingI love readingI love readingI love readingI love readingI love readingI love readingI love readingI love readingI love readingI love readingI love readingI love readingI love readingI love readingI love readingI love readingI love readingI love readingI love readingI love readingI love readingI love readingI love readingI love readingI love readingI love readingI love readingI love readingI love readingI love readingI love readingI love readingI love readingI love readingI love readingI love readingI love readingI love readingI love reading'"
      ]
     },
     "execution_count": 55,
     "metadata": {},
     "output_type": "execute_result"
    }
   ],
   "source": [
    "# Bonus\n",
    "(j + k)*100"
   ]
  },
  {
   "cell_type": "code",
   "execution_count": null,
   "id": "afcd8dd6",
   "metadata": {},
   "outputs": [],
   "source": []
  }
 ],
 "metadata": {
  "kernelspec": {
   "display_name": "Python 3 (ipykernel)",
   "language": "python",
   "name": "python3"
  },
  "language_info": {
   "codemirror_mode": {
    "name": "ipython",
    "version": 3
   },
   "file_extension": ".py",
   "mimetype": "text/x-python",
   "name": "python",
   "nbconvert_exporter": "python",
   "pygments_lexer": "ipython3",
   "version": "3.10.9"
  }
 },
 "nbformat": 4,
 "nbformat_minor": 5
}
